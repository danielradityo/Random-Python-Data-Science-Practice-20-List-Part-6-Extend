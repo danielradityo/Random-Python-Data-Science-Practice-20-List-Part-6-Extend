{
 "cells": [
  {
   "cell_type": "markdown",
   "metadata": {},
   "source": [
    "## Random Python Data Science Practice #20"
   ]
  },
  {
   "cell_type": "markdown",
   "metadata": {},
   "source": [
    "## List Part 6 Extend"
   ]
  },
  {
   "cell_type": "code",
   "execution_count": 1,
   "metadata": {},
   "outputs": [
    {
     "name": "stdout",
     "output_type": "stream",
     "text": [
      "['Car', 'Motorcycle', 'Bycycle', 'Plane', 'Ship', 'Cano', 'Train', 'Truck', 'Jet', 'Helicopter']\n",
      "['Jakarta', 'Tokyo', 'Bandung', 'New York', 'Las Vegas', 'Yogyakarta', 'Beijing']\n",
      "['Daniel', 9, 3.4, True, 'Data', 'Science', False, 6.2, 4]\n"
     ]
    }
   ],
   "source": [
    "# Create list\n",
    "vehicle_list = ['Car', 'Motorcycle', 'Bycycle', 'Plane', 'Ship', 'Cano', 'Train', 'Truck', 'Jet', 'Helicopter'] # --> List use []\n",
    "city_list = ['Jakarta', 'Tokyo', 'Bandung', 'New York', 'Las Vegas', 'Yogyakarta', 'Beijing']\n",
    "mix_list = ['Daniel', 9, 3.4, True, 'Data', 'Science', False, 6.2, 4]\n",
    "print(vehicle_list)\n",
    "print(city_list)\n",
    "print(mix_list)"
   ]
  },
  {
   "cell_type": "markdown",
   "metadata": {},
   "source": [
    "## Extend list"
   ]
  },
  {
   "cell_type": "code",
   "execution_count": 3,
   "metadata": {},
   "outputs": [
    {
     "name": "stdout",
     "output_type": "stream",
     "text": [
      "['Car', 'Motorcycle', 'Bycycle', 'Plane', 'Ship', 'Cano', 'Train', 'Truck', 'Jet', 'Helicopter', 'Tank', 'Bus', 'Tank', 'Bus', 'Submarine']\n",
      "['Jakarta', 'Tokyo', 'Bandung', 'New York', 'Las Vegas', 'Yogyakarta', 'Beijing', 'Bekasi', 'Kairo']\n",
      "['Daniel', 9, 3.4, True, 'Data', 'Science', False, 6.2, 4, 2, 'Phyton', 'Job']\n"
     ]
    }
   ],
   "source": [
    "# Extend is for adding more one item to a list\n",
    "vehicle_list.extend(['Tank', 'Bus', 'Submarine'])\n",
    "city_list.extend(['Bekasi', 'Kairo'])\n",
    "mix_list.extend([2, 'Phyton', 'Job'])\n",
    "print(vehicle_list)\n",
    "print(city_list)\n",
    "print(mix_list)"
   ]
  },
  {
   "cell_type": "code",
   "execution_count": null,
   "metadata": {},
   "outputs": [],
   "source": []
  }
 ],
 "metadata": {
  "kernelspec": {
   "display_name": "Python 3",
   "language": "python",
   "name": "python3"
  },
  "language_info": {
   "codemirror_mode": {
    "name": "ipython",
    "version": 3
   },
   "file_extension": ".py",
   "mimetype": "text/x-python",
   "name": "python",
   "nbconvert_exporter": "python",
   "pygments_lexer": "ipython3",
   "version": "3.8.5"
  }
 },
 "nbformat": 4,
 "nbformat_minor": 4
}
